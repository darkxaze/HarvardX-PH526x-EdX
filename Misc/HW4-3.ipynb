{
 "cells": [
  {
   "cell_type": "markdown",
   "metadata": {},
   "source": [
    "# Using Python for Research Homework: Week 4, Case Study 3\n",
    "\n",
    "Homophily is a property of networks.  Homophily occurs when nodes that are neighbors in a network also share a characteristic more often than nodes that are not network neighbors.  In this case study, we will investigate homophily of several characteristics of individuals connected in social networks in rural India."
   ]
  },
  {
   "cell_type": "markdown",
   "metadata": {},
   "source": [
    "### Exercise 1\n",
    "In Exercise 1, we will calculate the chance homophily for an arbitrary characteristic. Homophily is the proportion of edges in the network whose constituent nodes share that characteristic.\n",
    "\n",
    "How much homophily do we expect by chance? If characteristics are distributed completely randomly, the probability that two nodes \\(x\\) and \\(y\\) share characteristic \\(a\\) is the probability both nodes have characteristic \\(a\\) , which is the marginal probability of \\(a\\) squared. The total probability that nodes \\(x\\) and \\(y\\) share their characteristic is therefore the sum of the square of the marginal probabilities of each characteristic in the network.\n",
    "\n",
    "<strong>Instructions</strong>\n",
    "<ul><li>Create a function <code>marginal_prob</code> that takes a dictionary <code>chars</code> with personal IDs as keys and characteristics as values; it should return a dictionary with characteristics as keys and their marginal probability (frequency of occurence of a characteristic divided by the sum of frequencies of each characteristic) as values.</li>\n",
    "<li>Create a function <code>chance_homophily(chars)</code> that takes a dictionary <code>chars</code> defined as above and computes the chance homophily (homophily due to chance alone) for that characteristic.</li>\n",
    "<li>A sample of three peoples' favorite colors is given in <code>favorite_colors</code>. Use your function to compute the chance homophily in this group, and store it as <code>color_homophily</code>.</li>\n",
    "<li>Print <code>color_homophily</code>.</li></ul>"
   ]
  },
  {
   "cell_type": "code",
   "execution_count": 84,
   "metadata": {},
   "outputs": [
    {
     "name": "stdout",
     "output_type": "stream",
     "text": [
      "0.5555555555555556\n"
     ]
    }
   ],
   "source": [
    "from collections import Counter\n",
    "import numpy as np\n",
    "\n",
    "def marginal_prob(chars):\n",
    "    frequencies = dict(Counter(chars.values()))\n",
    "    sum_frequencies = sum(frequencies.values())\n",
    "    return {char: freq / sum_frequencies for char, freq in frequencies.items()}\n",
    "                \n",
    "def chance_homophily(chars):\n",
    "    marginal_probs = marginal_prob(chars)\n",
    "    return np.sum(np.square(list(marginal_probs.values())))\n",
    "\n",
    "favorite_colors = {\n",
    "    \"ankit\":  \"red\",\n",
    "    \"xiaoyu\": \"blue\",\n",
    "    \"mary\":   \"blue\"\n",
    "}\n",
    "\n",
    "color_homophily = chance_homophily(favorite_colors)\n",
    "print(color_homophily)"
   ]
  },
  {
   "cell_type": "markdown",
   "metadata": {},
   "source": [
    "### Exercise 2\n",
    "\n",
    "In the remaining exercises, we will calculate actual homophily in these village and compare the obtained values to those obtained by chance. In this exercise, we subset the data into individual villages and store them.\n",
    "\n",
    "#### Instructions \n",
    "\n",
    "- `individual_characteristics.dta` contains several characteristics for each individual in the dataset such as age, religion, and caste. Use the `pandas` library to read in and store these characteristics as a dataframe called `df`.\n",
    "- Store separate datasets for individuals belonging to Villages 1 and 2 as `df1` and `df2`, respectively.\n",
    "- Note that some attributes may be missing for some individuals. In this case study, we will ignore rows of data where some column information is missing.\n",
    "- Use the head method to display the first few entries of `df1`."
   ]
  },
  {
   "cell_type": "code",
   "execution_count": 85,
   "metadata": {},
   "outputs": [
    {
     "name": "stdout",
     "output_type": "stream",
     "text": [
      "0    1\n",
      "1    2\n",
      "2    1\n",
      "3    2\n",
      "4    1\n",
      "Name: resp_gend, dtype: int64\n"
     ]
    }
   ],
   "source": [
    "import pandas as pd\n",
    "\n",
    "df  = pd.read_csv(\"~/Downloads/asset-v1_HarvardX+PH526x+2T2019+type@asset+block@individual_characteristics.csv\", low_memory=False, index_col=0)\n",
    "df1 = df[df[\"village\"]==1] \n",
    "df2 = df[df[\"village\"]==2]\n",
    "\n",
    "# # Enter code here!\n",
    "print(df1[\"resp_gend\"].head())"
   ]
  },
  {
   "cell_type": "markdown",
   "metadata": {},
   "source": [
    "### Exercise 3 \n",
    "\n",
    "In this exercise, we define a few dictionaries that enable us to look up the sex, caste, and religion of members of each village by personal ID. For Villages 1 and 2, their personal IDs are stored as `pid`.\n",
    "\n",
    "#### Instructions \n",
    "- Define dictionaries with personal IDs as keys and a given covariate for that individual as values. Complete this for the sex, caste, and religion covariates, for Villages 1 and 2.\n",
    "- For Village 1, store these dictionaries into variables named `sex1`, `caste1`, and `religion1`.\n",
    "- For Village 2, store these dictionaries into variables named `sex2`, `caste2`, and `religion2`."
   ]
  },
  {
   "cell_type": "code",
   "execution_count": 90,
   "metadata": {},
   "outputs": [
    {
     "data": {
      "text/plain": [
       "{100201: 'OBC',\n",
       " 100202: 'OBC',\n",
       " 100601: 'OBC',\n",
       " 100602: 'OBC',\n",
       " 100701: 'OBC',\n",
       " 100702: 'OBC',\n",
       " 100801: 'OBC',\n",
       " 100802: 'OBC',\n",
       " 100805: 'OBC',\n",
       " 100806: 'OBC',\n",
       " 100807: 'OBC',\n",
       " 100808: 'OBC',\n",
       " 101301: 'SCHEDULED CASTE',\n",
       " 101302: 'SCHEDULED CASTE',\n",
       " 101303: 'SCHEDULED CASTE',\n",
       " 101601: 'SCHEDULED CASTE',\n",
       " 101602: 'SCHEDULED CASTE',\n",
       " 102001: 'OBC',\n",
       " 102002: 'OBC',\n",
       " 102004: 'OBC',\n",
       " 102101: 'OBC',\n",
       " 102102: 'OBC',\n",
       " 102103: 'OBC',\n",
       " 102104: 'OBC',\n",
       " 102401: 'OBC',\n",
       " 102402: 'OBC',\n",
       " 102901: 'OBC',\n",
       " 102902: 'OBC',\n",
       " 103101: 'OBC',\n",
       " 103102: 'OBC',\n",
       " 103104: 'OBC',\n",
       " 103105: 'OBC',\n",
       " 103201: 'SCHEDULED CASTE',\n",
       " 103202: 'SCHEDULED CASTE',\n",
       " 103301: 'SCHEDULED CASTE',\n",
       " 103302: 'SCHEDULED CASTE',\n",
       " 103501: 'SCHEDULED CASTE',\n",
       " 103502: 'SCHEDULED CASTE',\n",
       " 103701: 'SCHEDULED CASTE',\n",
       " 103702: 'SCHEDULED CASTE',\n",
       " 104001: 'OBC',\n",
       " 104002: 'OBC',\n",
       " 104101: 'OBC',\n",
       " 104102: 'OBC',\n",
       " 104201: 'OBC',\n",
       " 104202: 'OBC',\n",
       " 104301: 'OBC',\n",
       " 104302: 'OBC',\n",
       " 104801: 'OBC',\n",
       " 104802: 'OBC',\n",
       " 104901: 'OBC',\n",
       " 104902: 'OBC',\n",
       " 105201: 'OBC',\n",
       " 105301: 'OBC',\n",
       " 105302: 'OBC',\n",
       " 105303: 'OBC',\n",
       " 105304: 'OBC',\n",
       " 105401: 'GENERAL',\n",
       " 105402: 'GENERAL',\n",
       " 105404: 'GENERAL',\n",
       " 105802: 'OBC',\n",
       " 105901: 'OBC',\n",
       " 105902: 'OBC',\n",
       " 106201: 'OBC',\n",
       " 106202: 'OBC',\n",
       " 106204: 'OBC',\n",
       " 106205: 'OBC',\n",
       " 106501: 'OBC',\n",
       " 106502: 'OBC',\n",
       " 106503: 'OBC',\n",
       " 106701: 'OBC',\n",
       " 106702: 'OBC',\n",
       " 106704: 'OBC',\n",
       " 106801: 'OBC',\n",
       " 106802: 'OBC',\n",
       " 107101: 'OBC',\n",
       " 107102: 'OBC',\n",
       " 107301: 'OBC',\n",
       " 107302: 'OBC',\n",
       " 107303: 'OBC',\n",
       " 107304: 'OBC',\n",
       " 107307: 'OBC',\n",
       " 107308: 'OBC',\n",
       " 107401: 'OBC',\n",
       " 107402: 'OBC',\n",
       " 107802: 'OBC',\n",
       " 107803: 'OBC',\n",
       " 107805: 'OBC',\n",
       " 107901: 'OBC',\n",
       " 108101: 'OBC',\n",
       " 108102: 'OBC',\n",
       " 108104: 'GENERAL',\n",
       " 108301: 'GENERAL',\n",
       " 108302: 'GENERAL',\n",
       " 108304: 'OBC',\n",
       " 108801: 'OBC',\n",
       " 108802: 'OBC',\n",
       " 108803: 'OBC',\n",
       " 108804: 'OBC',\n",
       " 108901: 'OBC',\n",
       " 108902: 'OBC',\n",
       " 108905: 'OBC',\n",
       " 108906: 'OBC',\n",
       " 109201: 'OBC',\n",
       " 109202: 'OBC',\n",
       " 109401: 'OBC',\n",
       " 109402: 'OBC',\n",
       " 109501: 'OBC',\n",
       " 109502: 'OBC',\n",
       " 109505: 'OBC',\n",
       " 109506: 'OBC',\n",
       " 109701: 'OBC',\n",
       " 109702: 'OBC',\n",
       " 109901: 'OBC',\n",
       " 109902: 'OBC',\n",
       " 110301: 'OBC',\n",
       " 110302: 'OBC',\n",
       " 110501: 'OBC',\n",
       " 110502: 'OBC',\n",
       " 110601: 'OBC',\n",
       " 110602: 'OBC',\n",
       " 111201: 'OBC',\n",
       " 111203: 'OBC',\n",
       " 111204: 'OBC',\n",
       " 111205: 'OBC',\n",
       " 111501: 'OBC',\n",
       " 111502: 'OBC',\n",
       " 111901: 'OBC',\n",
       " 111902: 'OBC',\n",
       " 111903: 'OBC',\n",
       " 111904: 'OBC',\n",
       " 112201: 'OBC',\n",
       " 112202: 'OBC',\n",
       " 112601: 'OBC',\n",
       " 112603: 'GENERAL',\n",
       " 112604: 'OBC',\n",
       " 112605: 'GENERAL',\n",
       " 112801: 'OBC',\n",
       " 112802: 'OBC',\n",
       " 113301: 'OBC',\n",
       " 113302: 'OBC',\n",
       " 113401: 'OBC',\n",
       " 113601: 'OBC',\n",
       " 113602: 'OBC',\n",
       " 113901: 'SCHEDULED CASTE',\n",
       " 113902: 'SCHEDULED CASTE',\n",
       " 114001: 'OBC',\n",
       " 114002: 'OBC',\n",
       " 114301: 'OBC',\n",
       " 114302: 'OBC',\n",
       " 114303: 'SCHEDULED CASTE',\n",
       " 114601: 'SCHEDULED CASTE',\n",
       " 114602: 'SCHEDULED CASTE',\n",
       " 114701: 'SCHEDULED CASTE',\n",
       " 114702: 'SCHEDULED CASTE',\n",
       " 114703: 'SCHEDULED CASTE',\n",
       " 114801: 'SCHEDULED CASTE',\n",
       " 114802: 'SCHEDULED CASTE',\n",
       " 115201: 'SCHEDULED CASTE',\n",
       " 115202: 'SCHEDULED CASTE',\n",
       " 115501: 'OBC',\n",
       " 115502: 'SCHEDULED TRIBE',\n",
       " 115503: 'OBC',\n",
       " 115504: 'OBC',\n",
       " 115601: 'SCHEDULED CASTE',\n",
       " 115801: 'GENERAL',\n",
       " 115802: 'GENERAL',\n",
       " 115803: 'OBC',\n",
       " 115807: 'OBC',\n",
       " 115808: 'OBC',\n",
       " 115809: 'OBC',\n",
       " 116201: 'OBC',\n",
       " 116202: 'OBC',\n",
       " 116203: 'OBC',\n",
       " 116206: 'OBC',\n",
       " 116207: 'OBC',\n",
       " 116301: 'OBC',\n",
       " 116302: 'OBC',\n",
       " 116303: 'OBC',\n",
       " 116304: 'OBC',\n",
       " 116307: 'OBC',\n",
       " 116308: 'OBC',\n",
       " 116310: 'OBC',\n",
       " 116311: 'OBC',\n",
       " 116401: 'OBC',\n",
       " 116402: 'OBC',\n",
       " 116501: 'OBC',\n",
       " 116502: 'OBC',\n",
       " 116601: 'OBC',\n",
       " 116602: 'OBC',\n",
       " 116901: 'OBC',\n",
       " 116902: 'OBC',\n",
       " 116905: 'OBC',\n",
       " 117101: 'OBC',\n",
       " 117102: 'OBC',\n",
       " 117103: 'OBC',\n",
       " 117105: 'OBC',\n",
       " 117201: 'OBC',\n",
       " 117202: 'OBC',\n",
       " 117203: 'OBC',\n",
       " 117301: 'OBC',\n",
       " 117403: 'SCHEDULED CASTE',\n",
       " 117404: 'SCHEDULED CASTE'}"
      ]
     },
     "execution_count": 90,
     "metadata": {},
     "output_type": "execute_result"
    }
   ],
   "source": [
    "sex1 = df1.set_index(\"pid\")[\"resp_gend\"].to_dict()\n",
    "caste1 = df1.set_index(\"pid\")[\"caste\"].to_dict()\n",
    "religion1 = df1.set_index(\"pid\")[\"religion\"].to_dict()\n",
    "\n",
    "sex2 = df2.set_index(\"pid\")[\"resp_gend\"].to_dict()\n",
    "caste2 = df2.set_index(\"pid\")[\"caste\"].to_dict()\n",
    "religion2 = df2.set_index(\"pid\")[\"religion\"].to_dict()\n",
    "\n",
    "caste2[202802]\n",
    "caste1"
   ]
  },
  {
   "cell_type": "markdown",
   "metadata": {},
   "source": [
    "### Exercise 4\n",
    "\n",
    "In this exercise, we will print the chance homophily of several characteristics of Villages 1 and 2. \n",
    "\n",
    "#### Instructions \n",
    "-  Use `chance_homophily` to compute the chance homophily for sex, caste, and religion In Villages 1 and 2. Is the chance homophily for any attribute very high for either village?"
   ]
  },
  {
   "cell_type": "code",
   "execution_count": 88,
   "metadata": {},
   "outputs": [
    {
     "name": "stdout",
     "output_type": "stream",
     "text": [
      "0.5027299861680701\n",
      "0.5005945303210464\n",
      "0.6741488509791551\n",
      "0.425368244800893\n",
      "0.9804896988521925\n",
      "1.0\n"
     ]
    }
   ],
   "source": [
    "# Enter your code here.\n",
    "print(chance_homophily(sex1))\n",
    "print(chance_homophily(sex2))\n",
    "print(chance_homophily(caste1))\n",
    "print(chance_homophily(caste2))\n",
    "print(chance_homophily(religion1))\n",
    "print(chance_homophily(religion2))"
   ]
  },
  {
   "cell_type": "markdown",
   "metadata": {},
   "source": [
    "### Exercise 5\n",
    "\n",
    "In this exercise, we will create a function that computes the observed homophily given a village and characteristic.\n",
    "\n",
    "#### Instructions \n",
    "- Complete the function `homophily()`, which takes a network `G`, a dictionary of node characteristics `chars`, and node IDs `IDs`. For each node pair, determine whether a tie exists between them, as well as whether they share a characteristic. The total count of these is `num_ties` and `num_same_ties`, respectively, and their ratio is the homophily of chars in `G`. Complete the function by choosing where to increment `num_same_ties` and `num_ties`."
   ]
  },
  {
   "cell_type": "code",
   "execution_count": 89,
   "metadata": {},
   "outputs": [],
   "source": [
    "def homophily(G, chars, IDs):\n",
    "    \"\"\"\n",
    "    Given a network G, a dict of characteristics chars for node IDs,\n",
    "    and dict of node IDs for each node in the network,\n",
    "    find the homophily of the network.\n",
    "    \"\"\"\n",
    "    num_same_ties = 0\n",
    "    num_ties = 0\n",
    "    for n1, n2 in G.edges():\n",
    "        if IDs[n1] in chars and IDs[n2] in chars:\n",
    "            if G.has_edge(n1, n2):\n",
    "                num_ties += 1\n",
    "                if chars[IDs[n1]] == chars[IDs[n2]]:\n",
    "                    num_same_ties += 1\n",
    "    return (num_same_ties / num_ties)"
   ]
  },
  {
   "cell_type": "markdown",
   "metadata": {},
   "source": [
    "### Exercise 6\n",
    "\n",
    "In this exercise, we will obtain the personal IDs for Villages 1 and 2. These will be used in the next exercise to calculate homophily for these villages.\n",
    "\n",
    "#### Instructions \n",
    "- In this dataset, each individual has a personal ID, or PID, stored in `key_vilno_1.csv` and `key_vilno_2.csv` for villages 1 and 2, respectively. `data_filepath1` and `data_filepath2` contain the URLs to the datasets used in this exercise. Use `pd.read_csv` to read in and store `key_vilno_1.csv` and `key_vilno_2.csv` as `pid1` and `pid2` respectively. "
   ]
  },
  {
   "cell_type": "code",
   "execution_count": 120,
   "metadata": {},
   "outputs": [
    {
     "name": "stdout",
     "output_type": "stream",
     "text": [
      "     index     pid\n",
      "101  100.0  102205\n"
     ]
    }
   ],
   "source": [
    "data_filepath1 = \"https://courses.edx.org/asset-v1:HarvardX+PH526x+2T2019+type@asset+block@key_vilno_1.csv\"\n",
    "data_filepath2 = \"https://courses.edx.org/asset-v1:HarvardX+PH526x+2T2019+type@asset+block@key_vilno_2.csv\"\n",
    "\n",
    "# Enter code here!\n",
    "pid1 = pd.read_csv(data_filepath1, index_col=0)\n",
    "pid2 = pd.read_csv(data_filepath2, index_col=0)\n",
    "\n",
    "pid1.iloc[100]"
   ]
  },
  {
   "cell_type": "markdown",
   "metadata": {},
   "source": [
    "### Exercise 7\n",
    "\n",
    "In this exercise, we will compute the homophily of several network characteristics for Villages 1 and 2 and compare them to homophily due to chance alone. The networks for these villages have been stored as networkx graph objects `G1` and `G2`.\n",
    "\n",
    "#### Instructions \n",
    "\n",
    "- Use your `homophily()` function to compute the observed homophily for sex, caste, and religion in Villages 1 and 2. Print all six values.\n",
    "- Use the `chance_homophily()` to compare these values to chance homophily. Are these values higher or lower than that expected by chance?"
   ]
  },
  {
   "cell_type": "code",
   "execution_count": 122,
   "metadata": {},
   "outputs": [
    {
     "name": "stdout",
     "output_type": "stream",
     "text": [
      "-0.5908629441624366\n",
      "-0.7959390862944162\n",
      "-0.9908629441624366\n",
      "-0.5658073270013568\n",
      "-0.8276797829036635\n",
      "-1.0\n",
      "\n",
      "0.5027299861680701\n",
      "0.6741488509791551\n",
      "0.9804896988521925\n"
     ]
    }
   ],
   "source": [
    "import networkx as nx\n",
    "A1 = np.array(pd.read_csv(\"https://courses.edx.org/asset-v1:HarvardX+PH526x+2T2019+type@asset+block@adj_allVillageRelationships_vilno1.csv\", index_col=0))\n",
    "A2 = np.array(pd.read_csv(\"https://courses.edx.org/asset-v1:HarvardX+PH526x+2T2019+type@asset+block@adj_allVillageRelationships_vilno2.csv\", index_col=0))\n",
    "G1 = nx.to_networkx_graph(A1)\n",
    "G2 = nx.to_networkx_graph(A2)\n",
    "\n",
    "pid1 = pd.read_csv(data_filepath1, dtype=int)['0'].to_dict()\n",
    "pid2 = pd.read_csv(data_filepath2, dtype=int)['0'].to_dict()\n",
    "\n",
    "# Enter your code here!\n",
    "print(homophily(G1,sex1,pid1))\n",
    "print(homophily(G1,caste1,pid1))\n",
    "print(homophily(G1,religion1,pid1))\n",
    "print(homophily(G2,sex2,pid2))\n",
    "print(homophily(G2,caste2,pid2))\n",
    "print(homophily(G2,religion2,pid2))\n",
    "print(\"\")\n",
    "print(chance_homophily(sex1))\n",
    "print(chance_homophily(caste1))\n",
    "print(chance_homophily(religion1))"
   ]
  }
 ],
 "metadata": {
  "kernelspec": {
   "display_name": "Python 3",
   "language": "python",
   "name": "python3"
  },
  "language_info": {
   "codemirror_mode": {
    "name": "ipython",
    "version": 3
   },
   "file_extension": ".py",
   "mimetype": "text/x-python",
   "name": "python",
   "nbconvert_exporter": "python",
   "pygments_lexer": "ipython3",
   "version": "3.7.4"
  },
  "toc": {
   "base_numbering": 1,
   "nav_menu": {},
   "number_sections": false,
   "sideBar": true,
   "skip_h1_title": false,
   "title_cell": "Table of Contents",
   "title_sidebar": "Contents",
   "toc_cell": false,
   "toc_position": {},
   "toc_section_display": true,
   "toc_window_display": true
  }
 },
 "nbformat": 4,
 "nbformat_minor": 2
}
