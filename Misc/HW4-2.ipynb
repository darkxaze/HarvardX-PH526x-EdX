{
 "cells": [
  {
   "cell_type": "markdown",
   "metadata": {},
   "source": [
    "# Using Python for Research Homework: Week 4, Case Study 2\n",
    "\n",
    "In this case study, we will continue taking a look at patterns of flight for each of the three birds in our dataset."
   ]
  },
  {
   "cell_type": "code",
   "execution_count": 209,
   "metadata": {},
   "outputs": [
    {
     "name": "stdout",
     "output_type": "stream",
     "text": [
      "       altitude               date_time  device_info_serial   direction  \\\n",
      "0            71  2013-08-15 00:18:08+00                 851 -150.469753   \n",
      "1            68  2013-08-15 00:48:07+00                 851 -136.151141   \n",
      "2            68  2013-08-15 01:17:58+00                 851  160.797477   \n",
      "3            73  2013-08-15 01:47:51+00                 851   32.769360   \n",
      "4            69  2013-08-15 02:17:42+00                 851   45.191230   \n",
      "...         ...                     ...                 ...         ...   \n",
      "61915        11  2014-04-30 22:00:08+00                 833   45.448157   \n",
      "61916         6  2014-04-30 22:29:57+00                 833 -112.073055   \n",
      "61917         5  2014-04-30 22:59:52+00                 833   69.989037   \n",
      "61918        16  2014-04-30 23:29:43+00                 833   88.376373   \n",
      "61919         9  2014-04-30 23:59:34+00                 833  149.949008   \n",
      "\n",
      "        latitude  longitude  speed_2d bird_name  \n",
      "0      49.419860   2.120733  0.150000      Eric  \n",
      "1      49.419880   2.120746  2.438360      Eric  \n",
      "2      49.420310   2.120885  0.596657      Eric  \n",
      "3      49.420359   2.120859  0.310161      Eric  \n",
      "4      49.420331   2.120887  0.193132      Eric  \n",
      "...          ...        ...       ...       ...  \n",
      "61915  51.352572   3.177151  0.208087     Sanne  \n",
      "61916  51.352585   3.177144  1.522662     Sanne  \n",
      "61917  51.352622   3.177257  3.120545     Sanne  \n",
      "61918  51.354641   3.181509  0.592115     Sanne  \n",
      "61919  51.354474   3.181057  0.485489     Sanne  \n",
      "\n",
      "[61920 rows x 8 columns]\n"
     ]
    },
    {
     "data": {
      "text/html": [
       "<div>\n",
       "<style scoped>\n",
       "    .dataframe tbody tr th:only-of-type {\n",
       "        vertical-align: middle;\n",
       "    }\n",
       "\n",
       "    .dataframe tbody tr th {\n",
       "        vertical-align: top;\n",
       "    }\n",
       "\n",
       "    .dataframe thead th {\n",
       "        text-align: right;\n",
       "    }\n",
       "</style>\n",
       "<table border=\"1\" class=\"dataframe\">\n",
       "  <thead>\n",
       "    <tr style=\"text-align: right;\">\n",
       "      <th></th>\n",
       "      <th>altitude</th>\n",
       "      <th>device_info_serial</th>\n",
       "      <th>direction</th>\n",
       "      <th>latitude</th>\n",
       "      <th>longitude</th>\n",
       "      <th>speed_2d</th>\n",
       "    </tr>\n",
       "  </thead>\n",
       "  <tbody>\n",
       "    <tr>\n",
       "      <td>count</td>\n",
       "      <td>61920.000000</td>\n",
       "      <td>61920.000000</td>\n",
       "      <td>61477.000000</td>\n",
       "      <td>61920.000000</td>\n",
       "      <td>61920.000000</td>\n",
       "      <td>61477.000000</td>\n",
       "    </tr>\n",
       "    <tr>\n",
       "      <td>mean</td>\n",
       "      <td>52.313275</td>\n",
       "      <td>849.328505</td>\n",
       "      <td>-4.610841</td>\n",
       "      <td>30.227762</td>\n",
       "      <td>-8.953367</td>\n",
       "      <td>2.558987</td>\n",
       "    </tr>\n",
       "    <tr>\n",
       "      <td>std</td>\n",
       "      <td>136.435498</td>\n",
       "      <td>12.835870</td>\n",
       "      <td>102.786009</td>\n",
       "      <td>14.809813</td>\n",
       "      <td>8.478471</td>\n",
       "      <td>3.576039</td>\n",
       "    </tr>\n",
       "    <tr>\n",
       "      <td>min</td>\n",
       "      <td>-1010.000000</td>\n",
       "      <td>833.000000</td>\n",
       "      <td>-179.997929</td>\n",
       "      <td>12.354424</td>\n",
       "      <td>-17.626145</td>\n",
       "      <td>0.000000</td>\n",
       "    </tr>\n",
       "    <tr>\n",
       "      <td>25%</td>\n",
       "      <td>2.000000</td>\n",
       "      <td>833.000000</td>\n",
       "      <td>-89.679759</td>\n",
       "      <td>15.393138</td>\n",
       "      <td>-16.761302</td>\n",
       "      <td>0.410000</td>\n",
       "    </tr>\n",
       "    <tr>\n",
       "      <td>50%</td>\n",
       "      <td>14.000000</td>\n",
       "      <td>851.000000</td>\n",
       "      <td>-10.983115</td>\n",
       "      <td>30.424481</td>\n",
       "      <td>-9.662089</td>\n",
       "      <td>1.209049</td>\n",
       "    </tr>\n",
       "    <tr>\n",
       "      <td>75%</td>\n",
       "      <td>84.000000</td>\n",
       "      <td>864.000000</td>\n",
       "      <td>81.964778</td>\n",
       "      <td>49.999572</td>\n",
       "      <td>2.603591</td>\n",
       "      <td>3.059444</td>\n",
       "    </tr>\n",
       "    <tr>\n",
       "      <td>max</td>\n",
       "      <td>6965.000000</td>\n",
       "      <td>864.000000</td>\n",
       "      <td>180.000000</td>\n",
       "      <td>51.518452</td>\n",
       "      <td>4.857561</td>\n",
       "      <td>63.488066</td>\n",
       "    </tr>\n",
       "  </tbody>\n",
       "</table>\n",
       "</div>"
      ],
      "text/plain": [
       "           altitude  device_info_serial     direction      latitude  \\\n",
       "count  61920.000000        61920.000000  61477.000000  61920.000000   \n",
       "mean      52.313275          849.328505     -4.610841     30.227762   \n",
       "std      136.435498           12.835870    102.786009     14.809813   \n",
       "min    -1010.000000          833.000000   -179.997929     12.354424   \n",
       "25%        2.000000          833.000000    -89.679759     15.393138   \n",
       "50%       14.000000          851.000000    -10.983115     30.424481   \n",
       "75%       84.000000          864.000000     81.964778     49.999572   \n",
       "max     6965.000000          864.000000    180.000000     51.518452   \n",
       "\n",
       "          longitude      speed_2d  \n",
       "count  61920.000000  61477.000000  \n",
       "mean      -8.953367      2.558987  \n",
       "std        8.478471      3.576039  \n",
       "min      -17.626145      0.000000  \n",
       "25%      -16.761302      0.410000  \n",
       "50%       -9.662089      1.209049  \n",
       "75%        2.603591      3.059444  \n",
       "max        4.857561     63.488066  "
      ]
     },
     "execution_count": 209,
     "metadata": {},
     "output_type": "execute_result"
    }
   ],
   "source": [
    "# DO NOT EDIT THIS CODE\n",
    "import pandas as pd\n",
    "import numpy as np\n",
    "birddata = pd.read_csv(\"https://courses.edx.org/asset-v1:HarvardX+PH526x+2T2019+type@asset+block@bird_tracking.csv\", index_col=0)\n",
    "print(birddata)\n",
    "birddata.describe()\n"
   ]
  },
  {
   "cell_type": "code",
   "execution_count": 212,
   "metadata": {},
   "outputs": [
    {
     "data": {
      "text/plain": [
       "array(['Eric', 'Nico', 'Sanne'], dtype=object)"
      ]
     },
     "execution_count": 212,
     "metadata": {},
     "output_type": "execute_result"
    }
   ],
   "source": [
    "birddata[\"bird_name\"].unique()"
   ]
  },
  {
   "cell_type": "markdown",
   "metadata": {},
   "source": [
    "### Exercise 1\n",
    "\n",
    "In this case study, we will continue taking a look at patterns of flight for each of the three birds in our dataset. We will group the flight patterns by bird and date, and plot the mean altitude for these groupings.\n",
    "\n",
    "`pandas` makes it easy to perform basic operations on groups within a dataframe without needing to loop through each value in the dataframe. In this exercise, we will group the dataframe by `birdname` and then find the average `speed_2d` for each bird.\n",
    "\n",
    "#### Instructions \n",
    "- Fill in the code to find the mean altitudes of each bird using the pre-loaded `birddata` dataframe. "
   ]
  },
  {
   "cell_type": "code",
   "execution_count": 183,
   "metadata": {},
   "outputs": [
    {
     "data": {
      "text/plain": [
       "bird_name\n",
       "Eric     2.300545\n",
       "Nico     2.908726\n",
       "Sanne    2.450434\n",
       "Name: speed_2d, dtype: float64"
      ]
     },
     "execution_count": 183,
     "metadata": {},
     "output_type": "execute_result"
    }
   ],
   "source": [
    "grouped_birds = birddata.groupby(\"bird_name\")\n",
    "mean_speeds = grouped_birds.speed_2d.mean()\n",
    "mean_altitudes = grouped_birds.altitude.mean()\n",
    "mean_speeds"
   ]
  },
  {
   "cell_type": "markdown",
   "metadata": {},
   "source": [
    "### Exercise 2\n",
    "\n",
    "In this exercise, we will group the flight times by date and calculate the mean altitude within that day.\n",
    "\n",
    "#### Instructions \n",
    "- Convert `birddata.date_time` to the `pd.datetime` format, and store as `birddata[\"date\"]`.\n",
    "- Fill in the code to find the mean altitudes for each day."
   ]
  },
  {
   "cell_type": "code",
   "execution_count": 104,
   "metadata": {},
   "outputs": [],
   "source": [
    "birddata.date_time = pd.to_datetime(birddata.date_time)\n",
    "birddata[\"date\"] = birddata.date_time.dt.date\n",
    "grouped_bydates = birddata.groupby(\"date\")\n",
    "mean_altitudes_perday = grouped_bydates.altitude.mean()"
   ]
  },
  {
   "cell_type": "markdown",
   "metadata": {},
   "source": [
    "### Exercise 3\n",
    "\n",
    "In this exercise, we will group the flight times by both bird and date, and calculate the mean altitude for each.\n",
    "\n",
    "#### Instructions \n",
    "- `birddata` already contains the `date` column. To find the average speed for each bird and day, create a new grouped dataframe called `grouped_birdday` that groups the data by both `bird_name` and date."
   ]
  },
  {
   "cell_type": "code",
   "execution_count": 200,
   "metadata": {},
   "outputs": [
    {
     "data": {
      "text/plain": [
       "bird_name  date      \n",
       "Eric       2013-08-15     74.988095\n",
       "           2013-08-16    127.773810\n",
       "           2013-08-17    125.890244\n",
       "           2013-08-18    121.353659\n",
       "           2013-08-19    134.928571\n",
       "                            ...    \n",
       "Sanne      2014-04-26     17.116667\n",
       "           2014-04-27     17.391892\n",
       "           2014-04-28     58.876712\n",
       "           2014-04-29     30.530120\n",
       "           2014-04-30      4.361111\n",
       "Name: altitude, Length: 770, dtype: float64"
      ]
     },
     "execution_count": 200,
     "metadata": {},
     "output_type": "execute_result"
    }
   ],
   "source": [
    "from datetime import datetime\n",
    "grouped_birdday = birddata.groupby([\"bird_name\", \"date\"])\n",
    "mean_altitudes_perday = grouped_birdday.altitude.mean()#.reset_index()\n",
    "mean_altitudes_perday\n",
    "# mean_altitudes_perday[(mean_altitudes_perday[\"bird_name\"]==\"Nico\") & \n",
    "#                       (mean_altitudes_perday[\"date\"]==datetime.strptime(\"2014-04-04\", '%Y-%m-%d').date())]"
   ]
  },
  {
   "cell_type": "markdown",
   "metadata": {},
   "source": [
    "### Exercise 4\n",
    "\n",
    "Great! Now find the average speed for each bird and day.\n",
    "\n",
    "#### Instructions \n",
    "\n",
    "- Store these are three `pandas` `Series` objects, one for each bird.\n",
    "- Use the plotting code provided to plot the average speeds for each bird."
   ]
  },
  {
   "cell_type": "code",
   "execution_count": 207,
   "metadata": {},
   "outputs": [
    {
     "name": "stdout",
     "output_type": "stream",
     "text": [
      "           date  speed_2d\n",
      "0    2013-08-15  2.856924\n",
      "1    2013-08-16  3.386387\n",
      "2    2013-08-17  3.123210\n",
      "3    2013-08-18  2.785776\n",
      "4    2013-08-19  2.920577\n",
      "..          ...       ...\n",
      "254  2014-04-26  2.192028\n",
      "255  2014-04-27  2.582072\n",
      "256  2014-04-28  3.055051\n",
      "257  2014-04-29  2.793232\n",
      "258  2014-04-30  3.297032\n",
      "\n",
      "[259 rows x 2 columns]\n",
      "           date  speed_2d\n",
      "232  2014-04-04  2.832465\n"
     ]
    },
    {
     "data": {
      "image/png": "[encoded data removed]",
      "text/plain": [
       "<Figure size 432x288 with 1 Axes>"
      ]
     },
     "metadata": {
      "needs_background": "light"
     },
     "output_type": "display_data"
    }
   ],
   "source": [
    "import matplotlib.pyplot as plt\n",
    "\n",
    "# print(birddata)\n",
    "\n",
    "eric_daily_speed  = birddata[(birddata[\"bird_name\"] == \"Eric\")] # select rows\n",
    "eric_daily_speed = eric_daily_speed[['speed_2d','date']] # select columns\n",
    "eric_daily_speed =eric_daily_speed.groupby(\"date\").mean()\n",
    "eric_daily_speed = eric_daily_speed.reset_index()\n",
    "eric_daily_speed = eric_daily_speed[eric_daily_speed[\"date\"]==datetime.strptime(\"2014-04-04\", '%Y-%m-%d').date()]\n",
    "\n",
    "# sanne_daily_speed = birddata[(birddata[\"bird_name\"] == \"Sanne\")]\n",
    "\n",
    "nico_daily_speed = birddata[(birddata[\"bird_name\"] == \"Nico\")] # select rows\n",
    "nico_daily_speed = nico_daily_speed[['speed_2d','date']] # select columns\n",
    "nico_daily_speed = nico_daily_speed.groupby(\"date\").mean().reset_index()\n",
    "print(nico_daily_speed)\n",
    "nico_daily_speed = nico_daily_speed[nico_daily_speed[\"date\"]==datetime.strptime(\"2014-04-04\", '%Y-%m-%d').date()]\n",
    "print(nico_daily_speed)\n",
    "\n",
    "\n",
    "\n",
    "eric_daily_speed.plot(label=\"Eric\")\n",
    "# # sanne_daily_speed.plot(label=\"Sanne\")\n",
    "# # nico_daily_speed.plot(label=\"Nico\")\n",
    "\n",
    "plt.legend(loc=\"upper left\")\n",
    "plt.show()"
   ]
  },
  {
   "cell_type": "code",
   "execution_count": null,
   "metadata": {},
   "outputs": [],
   "source": []
  }
 ],
 "metadata": {
  "kernelspec": {
   "display_name": "Python 3",
   "language": "python",
   "name": "python3"
  },
  "language_info": {
   "codemirror_mode": {
    "name": "ipython",
    "version": 3
   },
   "file_extension": ".py",
   "mimetype": "text/x-python",
   "name": "python",
   "nbconvert_exporter": "python",
   "pygments_lexer": "ipython3",
   "version": "3.7.4"
  }
 },
 "nbformat": 4,
 "nbformat_minor": 2
}
