{
 "cells": [
  {
   "cell_type": "code",
   "execution_count": 1,
   "metadata": {},
   "outputs": [],
   "source": [
    "text = \"This is my text. We're keeping this text short to keep things manageable.\""
   ]
  },
  {
   "cell_type": "code",
   "execution_count": 2,
   "metadata": {},
   "outputs": [],
   "source": [
    "def count_words(text):\n",
    "    '''\n",
    "    Count number of times each word occurs in text(str). Return dictionary \n",
    "    where keys are unique words and values are word counts.\n",
    "    '''\n",
    "    word_counts = {}\n",
    "    for word in text.split(\" \"):\n",
    "        if word in word_counts:\n",
    "            word_counts[word] += 1\n",
    "        else:\n",
    "            word_counts[word] = 1\n",
    "    return word_counts"
   ]
  },
  {
   "cell_type": "code",
   "execution_count": 3,
   "metadata": {},
   "outputs": [
    {
     "data": {
      "text/plain": [
       "{'This': 1,\n",
       " 'is': 1,\n",
       " 'my': 1,\n",
       " 'text.': 1,\n",
       " \"We're\": 1,\n",
       " 'keeping': 1,\n",
       " 'this': 1,\n",
       " 'text': 1,\n",
       " 'short': 1,\n",
       " 'to': 1,\n",
       " 'keep': 1,\n",
       " 'things': 1,\n",
       " 'manageable.': 1}"
      ]
     },
     "execution_count": 3,
     "metadata": {},
     "output_type": "execute_result"
    }
   ],
   "source": [
    "count_words(text)"
   ]
  },
  {
   "cell_type": "code",
   "execution_count": 4,
   "metadata": {},
   "outputs": [],
   "source": [
    "def count_words(text):\n",
    "    '''\n",
    "    Count number of times each word occurs in text(str). Return dictionary \n",
    "    where keys are unique words and values are word counts. Skip punctuation.\n",
    "    '''\n",
    "    text = text.lower()\n",
    "    skips = [\",\",\".\",\";\",\"'\",'\"',\":\"]\n",
    "    for ch in skips:\n",
    "        text = text.replace(ch,\"\")\n",
    "    word_counts = {}\n",
    "    for word in text.split(\" \"):\n",
    "        if word in word_counts:\n",
    "            word_counts[word] += 1\n",
    "        else:\n",
    "            word_counts[word] = 1\n",
    "    return word_counts"
   ]
  },
  {
   "cell_type": "code",
   "execution_count": 5,
   "metadata": {},
   "outputs": [
    {
     "data": {
      "text/plain": [
       "{'this': 2,\n",
       " 'is': 1,\n",
       " 'my': 1,\n",
       " 'text': 2,\n",
       " 'were': 1,\n",
       " 'keeping': 1,\n",
       " 'short': 1,\n",
       " 'to': 1,\n",
       " 'keep': 1,\n",
       " 'things': 1,\n",
       " 'manageable': 1}"
      ]
     },
     "execution_count": 5,
     "metadata": {},
     "output_type": "execute_result"
    }
   ],
   "source": [
    "count_words(text)"
   ]
  },
  {
   "cell_type": "code",
   "execution_count": 6,
   "metadata": {},
   "outputs": [],
   "source": [
    "from collections import Counter\n",
    "\n",
    "def count_words_fast(text):\n",
    "    '''\n",
    "    Count number of times each word occurs in text(str). Return dictionary \n",
    "    where keys are unique words and values are word counts. Skip punctuation.\n",
    "    '''\n",
    "    text = text.lower()\n",
    "    skips = [\",\",\".\",\";\",\"'\",'\"',\":\"]\n",
    "    for ch in skips:\n",
    "        text = text.replace(ch,\"\")\n",
    "    word_counts = Counter(text.split(\" \"))\n",
    "    return word_counts"
   ]
  },
  {
   "cell_type": "code",
   "execution_count": 7,
   "metadata": {},
   "outputs": [
    {
     "data": {
      "text/plain": [
       "Counter({'this': 2,\n",
       "         'is': 1,\n",
       "         'my': 1,\n",
       "         'text': 2,\n",
       "         'were': 1,\n",
       "         'keeping': 1,\n",
       "         'short': 1,\n",
       "         'to': 1,\n",
       "         'keep': 1,\n",
       "         'things': 1,\n",
       "         'manageable': 1})"
      ]
     },
     "execution_count": 7,
     "metadata": {},
     "output_type": "execute_result"
    }
   ],
   "source": [
    "count_words_fast(text)"
   ]
  },
  {
   "cell_type": "code",
   "execution_count": 8,
   "metadata": {},
   "outputs": [
    {
     "data": {
      "text/plain": [
       "True"
      ]
     },
     "execution_count": 8,
     "metadata": {},
     "output_type": "execute_result"
    }
   ],
   "source": [
    "count_words(text) == count_words_fast(text)"
   ]
  },
  {
   "cell_type": "code",
   "execution_count": 9,
   "metadata": {},
   "outputs": [
    {
     "data": {
      "text/plain": [
       "6"
      ]
     },
     "execution_count": 9,
     "metadata": {},
     "output_type": "execute_result"
    }
   ],
   "source": [
    "'''\n",
    "The function count_words is as defined in Video 3.2.2.\n",
    "\n",
    "Consider the following code:\n",
    "\n",
    "len(count_words(\"This comprehension check is to check for comprehension.\"))\n",
    "What does this return?\n",
    "'''\n",
    "len(count_words(\"This comprehension check is to check for comprehension.\"))"
   ]
  },
  {
   "cell_type": "code",
   "execution_count": 10,
   "metadata": {},
   "outputs": [
    {
     "data": {
      "text/plain": [
       "False"
      ]
     },
     "execution_count": 10,
     "metadata": {},
     "output_type": "execute_result"
    }
   ],
   "source": [
    "'''\n",
    "The functions count_words and count_words_fast are as defined in Video 3.2.2. Consider the following code:\n",
    "\n",
    "count_words(text) is count_words_fast(text)\n",
    "What does this return?\n",
    "'''\n",
    "count_words(text) is count_words_fast(text)"
   ]
  },
  {
   "cell_type": "code",
   "execution_count": 11,
   "metadata": {},
   "outputs": [],
   "source": [
    "def read_book(title_path):\n",
    "    '''\n",
    "    Read a book and return it as a strings.\n",
    "    '''\n",
    "    with open(title_path,\"r\",encoding=\"utf8\") as current_file:\n",
    "        text = current_file.read()\n",
    "        text = text.replace(\"\\n\",\"\").replace(\"\\r\",\"\")\n",
    "    return text"
   ]
  },
  {
   "cell_type": "code",
   "execution_count": 12,
   "metadata": {},
   "outputs": [
    {
     "data": {
      "text/plain": [
       "169275"
      ]
     },
     "execution_count": 12,
     "metadata": {},
     "output_type": "execute_result"
    }
   ],
   "source": [
    "text = read_book(\"C:\\\\Users\\\\Ani\\\\OneDrive\\\\Desktop\\\\books\\\\English\\\\shakespeare\\\\Romeo and Juliet.txt\")\n",
    "len(text)"
   ]
  },
  {
   "cell_type": "code",
   "execution_count": 13,
   "metadata": {},
   "outputs": [],
   "source": [
    "ind = text.find(\"What's in a name?\")"
   ]
  },
  {
   "cell_type": "code",
   "execution_count": 14,
   "metadata": {
    "scrolled": true
   },
   "outputs": [
    {
     "data": {
      "text/plain": [
       "42757"
      ]
     },
     "execution_count": 14,
     "metadata": {},
     "output_type": "execute_result"
    }
   ],
   "source": [
    "ind"
   ]
  },
  {
   "cell_type": "code",
   "execution_count": 15,
   "metadata": {},
   "outputs": [],
   "source": [
    "sample_text = text[ind:ind+100]"
   ]
  },
  {
   "cell_type": "code",
   "execution_count": 16,
   "metadata": {},
   "outputs": [
    {
     "data": {
      "text/plain": [
       "\"What's in a name? That which we call a rose    By any other name would smell as sweet.    So Romeo w\""
      ]
     },
     "execution_count": 16,
     "metadata": {},
     "output_type": "execute_result"
    }
   ],
   "source": [
    "sample_text"
   ]
  },
  {
   "cell_type": "code",
   "execution_count": 17,
   "metadata": {},
   "outputs": [],
   "source": [
    "def word_stats(word_counts):\n",
    "    '''\n",
    "    Return number of unique words and word frequencies.\n",
    "    '''\n",
    "    num_unique = len(word_counts)\n",
    "    counts = word_counts.values()\n",
    "    return (num_unique, counts)"
   ]
  },
  {
   "cell_type": "code",
   "execution_count": 18,
   "metadata": {},
   "outputs": [],
   "source": [
    "word_counts = count_words(text)"
   ]
  },
  {
   "cell_type": "code",
   "execution_count": 19,
   "metadata": {},
   "outputs": [],
   "source": [
    "num_unique, counts = word_stats(word_counts)"
   ]
  },
  {
   "cell_type": "code",
   "execution_count": 20,
   "metadata": {},
   "outputs": [
    {
     "data": {
      "text/plain": [
       "5118"
      ]
     },
     "execution_count": 20,
     "metadata": {},
     "output_type": "execute_result"
    }
   ],
   "source": [
    "num_unique"
   ]
  },
  {
   "cell_type": "code",
   "execution_count": 21,
   "metadata": {},
   "outputs": [
    {
     "data": {
      "text/plain": [
       "40776"
      ]
     },
     "execution_count": 21,
     "metadata": {},
     "output_type": "execute_result"
    }
   ],
   "source": [
    "sum(counts)"
   ]
  },
  {
   "cell_type": "code",
   "execution_count": 37,
   "metadata": {},
   "outputs": [
    {
     "data": {
      "text/plain": [
       "'C:\\\\Users\\\\Ani\\\\OneDrive\\\\Desktop\\\\books'"
      ]
     },
     "execution_count": 37,
     "metadata": {},
     "output_type": "execute_result"
    }
   ],
   "source": [
    "pwd"
   ]
  },
  {
   "cell_type": "code",
   "execution_count": 22,
   "metadata": {},
   "outputs": [],
   "source": [
    "text = read_book(\"C:\\\\Users\\\\Ani\\\\OneDrive\\\\Desktop\\\\books\\\\German\\\\shakespeare\\\\Romeo und Julia.txt\")\n",
    "word_counts = count_words(text)\n",
    "num_unique, counts = word_stats(word_counts)"
   ]
  },
  {
   "cell_type": "code",
   "execution_count": 23,
   "metadata": {},
   "outputs": [
    {
     "data": {
      "text/plain": [
       "7527"
      ]
     },
     "execution_count": 23,
     "metadata": {},
     "output_type": "execute_result"
    }
   ],
   "source": [
    "num_unique"
   ]
  },
  {
   "cell_type": "code",
   "execution_count": 24,
   "metadata": {},
   "outputs": [
    {
     "data": {
      "text/plain": [
       "20311"
      ]
     },
     "execution_count": 24,
     "metadata": {},
     "output_type": "execute_result"
    }
   ],
   "source": [
    "sum(counts)"
   ]
  },
  {
   "cell_type": "code",
   "execution_count": 25,
   "metadata": {},
   "outputs": [],
   "source": [
    "import os"
   ]
  },
  {
   "cell_type": "code",
   "execution_count": 26,
   "metadata": {},
   "outputs": [],
   "source": [
    "book_dir = \"C:\\\\Users\\\\Ani\\\\OneDrive\\\\Desktop\\\\books\""
   ]
  },
  {
   "cell_type": "code",
   "execution_count": 27,
   "metadata": {},
   "outputs": [
    {
     "data": {
      "text/plain": [
       "['English', 'French', 'German', 'Portuguese']"
      ]
     },
     "execution_count": 27,
     "metadata": {},
     "output_type": "execute_result"
    }
   ],
   "source": [
    "os.listdir(book_dir)"
   ]
  },
  {
   "cell_type": "code",
   "execution_count": 28,
   "metadata": {},
   "outputs": [
    {
     "name": "stdout",
     "output_type": "stream",
     "text": [
      "C:\\Users\\Ani\\OneDrive\\Desktop\\books\\English\\shakespeare\\A Midsummer Night's Dream.txt\n",
      "C:\\Users\\Ani\\OneDrive\\Desktop\\books\\English\\shakespeare\\Hamlet.txt\n",
      "C:\\Users\\Ani\\OneDrive\\Desktop\\books\\English\\shakespeare\\Macbeth.txt\n",
      "C:\\Users\\Ani\\OneDrive\\Desktop\\books\\English\\shakespeare\\Othello.txt\n",
      "C:\\Users\\Ani\\OneDrive\\Desktop\\books\\English\\shakespeare\\Richard III.txt\n",
      "C:\\Users\\Ani\\OneDrive\\Desktop\\books\\English\\shakespeare\\Romeo and Juliet.txt\n",
      "C:\\Users\\Ani\\OneDrive\\Desktop\\books\\English\\shakespeare\\The Merchant of Venice.txt\n",
      "C:\\Users\\Ani\\OneDrive\\Desktop\\books\\French\\chevalier\\L'enfer et le paradis de l'autre monde.txt\n",
      "C:\\Users\\Ani\\OneDrive\\Desktop\\books\\French\\chevalier\\L'åle de sable.txt\n",
      "C:\\Users\\Ani\\OneDrive\\Desktop\\books\\French\\chevalier\\La capitaine.txt\n",
      "C:\\Users\\Ani\\OneDrive\\Desktop\\books\\French\\chevalier\\La fille des indiens rouges.txt\n",
      "C:\\Users\\Ani\\OneDrive\\Desktop\\books\\French\\chevalier\\La fille du pirate.txt\n",
      "C:\\Users\\Ani\\OneDrive\\Desktop\\books\\French\\chevalier\\Le chasseur noir.txt\n",
      "C:\\Users\\Ani\\OneDrive\\Desktop\\books\\French\\chevalier\\Les derniers Iroquois.txt\n",
      "C:\\Users\\Ani\\OneDrive\\Desktop\\books\\French\\de Maupassant\\Boule de Suif.txt\n",
      "C:\\Users\\Ani\\OneDrive\\Desktop\\books\\French\\de Maupassant\\Claire de Lune.txt\n",
      "C:\\Users\\Ani\\OneDrive\\Desktop\\books\\French\\de Maupassant\\Contes de la Becasse.txt\n",
      "C:\\Users\\Ani\\OneDrive\\Desktop\\books\\French\\de Maupassant\\L'inutile beautÇ.txt\n",
      "C:\\Users\\Ani\\OneDrive\\Desktop\\books\\French\\de Maupassant\\La Main Gauche.txt\n",
      "C:\\Users\\Ani\\OneDrive\\Desktop\\books\\French\\de Maupassant\\La Maison Tellier.txt\n",
      "C:\\Users\\Ani\\OneDrive\\Desktop\\books\\French\\de Maupassant\\La petite roque.txt\n",
      "C:\\Users\\Ani\\OneDrive\\Desktop\\books\\French\\de Maupassant\\Le Horla.txt\n",
      "C:\\Users\\Ani\\OneDrive\\Desktop\\books\\French\\de Maupassant\\Œuvres complètes de Guy de Maupassant.txt\n",
      "C:\\Users\\Ani\\OneDrive\\Desktop\\books\\French\\diderot\\Ceci n'est pas un conte.txt\n",
      "C:\\Users\\Ani\\OneDrive\\Desktop\\books\\French\\diderot\\Entretien d'un päre avec ses enfants.txt\n",
      "C:\\Users\\Ani\\OneDrive\\Desktop\\books\\French\\diderot\\L'oiseau blanc.txt\n",
      "C:\\Users\\Ani\\OneDrive\\Desktop\\books\\French\\diderot\\Les deux amis de Bourbonne.txt\n",
      "C:\\Users\\Ani\\OneDrive\\Desktop\\books\\French\\diderot\\Regrets sur ma vieille robe de chambre.txt\n",
      "C:\\Users\\Ani\\OneDrive\\Desktop\\books\\French\\sand\\cora.txt\n",
      "C:\\Users\\Ani\\OneDrive\\Desktop\\books\\French\\sand\\Jacques le fataliste et son maåtre.txt\n",
      "C:\\Users\\Ani\\OneDrive\\Desktop\\books\\French\\sand\\L' Orco.txt\n",
      "C:\\Users\\Ani\\OneDrive\\Desktop\\books\\French\\sand\\La Coupe; Lupo Liverani; Le Toast; Garnier; Le Contrebandier; La Ràverie Ö Paris.txt\n",
      "C:\\Users\\Ani\\OneDrive\\Desktop\\books\\French\\sand\\La Marquise.txt\n",
      "C:\\Users\\Ani\\OneDrive\\Desktop\\books\\French\\sand\\Le Piccinino.txt\n",
      "C:\\Users\\Ani\\OneDrive\\Desktop\\books\\French\\sand\\Le poâme de Myrza.txt\n",
      "C:\\Users\\Ani\\OneDrive\\Desktop\\books\\French\\sand\\Mattea.txt\n",
      "C:\\Users\\Ani\\OneDrive\\Desktop\\books\\French\\sand\\Metella.txt\n",
      "C:\\Users\\Ani\\OneDrive\\Desktop\\books\\French\\sand\\Oeuvres illustrÇes de George Sand.txt\n",
      "C:\\Users\\Ani\\OneDrive\\Desktop\\books\\French\\sand\\Pauline.txt\n",
      "C:\\Users\\Ani\\OneDrive\\Desktop\\books\\German\\lessing\\der freigeist.txt\n",
      "C:\\Users\\Ani\\OneDrive\\Desktop\\books\\German\\lessing\\der junge gelehrte.txt\n",
      "C:\\Users\\Ani\\OneDrive\\Desktop\\books\\German\\lessing\\die juden.txt\n",
      "C:\\Users\\Ani\\OneDrive\\Desktop\\books\\German\\lessing\\emilia galotti.txt\n",
      "C:\\Users\\Ani\\OneDrive\\Desktop\\books\\German\\lessing\\hamburgische dramaturgie.txt\n",
      "C:\\Users\\Ani\\OneDrive\\Desktop\\books\\German\\lessing\\minna von barnhelm.txt\n",
      "C:\\Users\\Ani\\OneDrive\\Desktop\\books\\German\\lessing\\miss sara sampson.txt\n",
      "C:\\Users\\Ani\\OneDrive\\Desktop\\books\\German\\lessing\\philotas.txt\n",
      "C:\\Users\\Ani\\OneDrive\\Desktop\\books\\German\\raimund\\Das MÑdchen aus der Feenwelt.txt\n",
      "C:\\Users\\Ani\\OneDrive\\Desktop\\books\\German\\raimund\\Der Alpenkînig und der Menschenfeind.txt\n",
      "C:\\Users\\Ani\\OneDrive\\Desktop\\books\\German\\raimund\\Der Barometermacher auf der Zauberinsel.txt\n",
      "C:\\Users\\Ani\\OneDrive\\Desktop\\books\\German\\raimund\\Der Diamant des Geisterkînigs.txt\n",
      "C:\\Users\\Ani\\OneDrive\\Desktop\\books\\German\\raimund\\Der Verschwender.txt\n",
      "C:\\Users\\Ani\\OneDrive\\Desktop\\books\\German\\raimund\\Die gefesselte Phantasie.txt\n",
      "C:\\Users\\Ani\\OneDrive\\Desktop\\books\\German\\raimund\\Die unheilbringende Krone.txt\n",
      "C:\\Users\\Ani\\OneDrive\\Desktop\\books\\German\\raimund\\Moisasurs Zauberfluch.txt\n",
      "C:\\Users\\Ani\\OneDrive\\Desktop\\books\\German\\schiller\\Der Neffe als Onkel.txt\n",
      "C:\\Users\\Ani\\OneDrive\\Desktop\\books\\German\\schiller\\Der Parasit, oder die Kunst, sein GlÅck zu machen.txt\n",
      "C:\\Users\\Ani\\OneDrive\\Desktop\\books\\German\\schiller\\die braut von messina.txt\n",
      "C:\\Users\\Ani\\OneDrive\\Desktop\\books\\German\\schiller\\Die Huldigung der KÅnste.txt\n",
      "C:\\Users\\Ani\\OneDrive\\Desktop\\books\\German\\schiller\\Die Jungfrau von Orleans.txt\n",
      "C:\\Users\\Ani\\OneDrive\\Desktop\\books\\German\\schiller\\Die Piccolomini.txt\n",
      "C:\\Users\\Ani\\OneDrive\\Desktop\\books\\German\\schiller\\Die Verschwîrung des Fiesco zu Genua.txt\n",
      "C:\\Users\\Ani\\OneDrive\\Desktop\\books\\German\\schiller\\Kabale und Liebe.txt\n",
      "C:\\Users\\Ani\\OneDrive\\Desktop\\books\\German\\schiller\\Turandot, Prinzessin von China.txt\n",
      "C:\\Users\\Ani\\OneDrive\\Desktop\\books\\German\\schiller\\Wallensteins Lager.txt\n",
      "C:\\Users\\Ani\\OneDrive\\Desktop\\books\\German\\schiller\\Wallensteins Tod.txt\n",
      "C:\\Users\\Ani\\OneDrive\\Desktop\\books\\German\\shakespeare\\Der Kaufmann von Venedig.txt\n",
      "C:\\Users\\Ani\\OneDrive\\Desktop\\books\\German\\shakespeare\\Ein Sommernachtstraum.txt\n",
      "C:\\Users\\Ani\\OneDrive\\Desktop\\books\\German\\shakespeare\\Hamlet.txt\n",
      "C:\\Users\\Ani\\OneDrive\\Desktop\\books\\German\\shakespeare\\Macbeth.txt\n",
      "C:\\Users\\Ani\\OneDrive\\Desktop\\books\\German\\shakespeare\\Othello.txt\n",
      "C:\\Users\\Ani\\OneDrive\\Desktop\\books\\German\\shakespeare\\Richard III.txt\n",
      "C:\\Users\\Ani\\OneDrive\\Desktop\\books\\German\\shakespeare\\Romeo und Julia.txt\n",
      "C:\\Users\\Ani\\OneDrive\\Desktop\\books\\Portuguese\\branco\\A Filha do Arcediago.txt\n",
      "C:\\Users\\Ani\\OneDrive\\Desktop\\books\\Portuguese\\branco\\A Neta do Arcediago.txt\n",
      "C:\\Users\\Ani\\OneDrive\\Desktop\\books\\Portuguese\\branco\\A Queda d'um Anjo.txt\n",
      "C:\\Users\\Ani\\OneDrive\\Desktop\\books\\Portuguese\\branco\\Agulha em Palheiro.txt\n",
      "C:\\Users\\Ani\\OneDrive\\Desktop\\books\\Portuguese\\branco\\Amor de Perdição.txt\n",
      "C:\\Users\\Ani\\OneDrive\\Desktop\\books\\Portuguese\\branco\\Amor de Salvação.txt\n",
      "C:\\Users\\Ani\\OneDrive\\Desktop\\books\\Portuguese\\branco\\Annos de Prosa.txt\n",
      "C:\\Users\\Ani\\OneDrive\\Desktop\\books\\Portuguese\\branco\\Carlota Angela.txt\n",
      "C:\\Users\\Ani\\OneDrive\\Desktop\\books\\Portuguese\\branco\\Estrellas Funestas.txt\n",
      "C:\\Users\\Ani\\OneDrive\\Desktop\\books\\Portuguese\\branco\\Estrellas Prop°cias.txt\n",
      "C:\\Users\\Ani\\OneDrive\\Desktop\\books\\Portuguese\\branco\\Lagrimas Abenáoadas.txt\n",
      "C:\\Users\\Ani\\OneDrive\\Desktop\\books\\Portuguese\\branco\\Livro de Consolação.txt\n",
      "C:\\Users\\Ani\\OneDrive\\Desktop\\books\\Portuguese\\branco\\O Olho de Vidro.txt\n",
      "C:\\Users\\Ani\\OneDrive\\Desktop\\books\\Portuguese\\branco\\O que fazem mulheres.txt\n",
      "C:\\Users\\Ani\\OneDrive\\Desktop\\books\\Portuguese\\branco\\O Regicida.txt\n",
      "C:\\Users\\Ani\\OneDrive\\Desktop\\books\\Portuguese\\branco\\Scenas Contemporaneas.txt\n",
      "C:\\Users\\Ani\\OneDrive\\Desktop\\books\\Portuguese\\dinis\\A Morgadinha dos Cannaviaes.txt\n",
      "C:\\Users\\Ani\\OneDrive\\Desktop\\books\\Portuguese\\dinis\\Os fidalgos da Casa Mourisca.txt\n",
      "C:\\Users\\Ani\\OneDrive\\Desktop\\books\\Portuguese\\dinis\\Uma fam°lia ingleza.txt\n",
      "C:\\Users\\Ani\\OneDrive\\Desktop\\books\\Portuguese\\Queir¢s\\A Cidade e as Serras.txt\n",
      "C:\\Users\\Ani\\OneDrive\\Desktop\\books\\Portuguese\\Queir¢s\\A correspondància de Fradique Mendes.txt\n",
      "C:\\Users\\Ani\\OneDrive\\Desktop\\books\\Portuguese\\Queir¢s\\A Illustre Casa de Ramires.txt\n",
      "C:\\Users\\Ani\\OneDrive\\Desktop\\books\\Portuguese\\Queir¢s\\A Rel°quia.txt\n",
      "C:\\Users\\Ani\\OneDrive\\Desktop\\books\\Portuguese\\Queir¢s\\Cartas de Inglaterra.txt\n",
      "C:\\Users\\Ani\\OneDrive\\Desktop\\books\\Portuguese\\Queir¢s\\O crime do padre Amaro.txt\n",
      "C:\\Users\\Ani\\OneDrive\\Desktop\\books\\Portuguese\\Queir¢s\\O Mandarim.txt\n",
      "C:\\Users\\Ani\\OneDrive\\Desktop\\books\\Portuguese\\Queir¢s\\O Primo Bazilio.txt\n",
      "C:\\Users\\Ani\\OneDrive\\Desktop\\books\\Portuguese\\Queir¢s\\Os Maias.txt\n",
      "C:\\Users\\Ani\\OneDrive\\Desktop\\books\\Portuguese\\shakespeare\\Hamlet.txt\n"
     ]
    }
   ],
   "source": [
    "for language in os.listdir(book_dir):\n",
    "    for author in os.listdir(book_dir+\"\\\\\"+language):\n",
    "        for title in os.listdir(book_dir+\"\\\\\"+language+\"\\\\\"+author):\n",
    "            inputfile = book_dir+\"\\\\\"+language+\"\\\\\"+author+\"\\\\\"+title\n",
    "            print(inputfile)\n",
    "            text = read_book(inputfile)\n",
    "            (num_unique, counts) = word_stats(count_words(text))"
   ]
  },
  {
   "cell_type": "code",
   "execution_count": 29,
   "metadata": {},
   "outputs": [],
   "source": [
    "import pandas as pd"
   ]
  },
  {
   "cell_type": "code",
   "execution_count": 30,
   "metadata": {},
   "outputs": [
    {
     "data": {
      "text/html": [
       "<div>\n",
       "<style scoped>\n",
       "    .dataframe tbody tr th:only-of-type {\n",
       "        vertical-align: middle;\n",
       "    }\n",
       "\n",
       "    .dataframe tbody tr th {\n",
       "        vertical-align: top;\n",
       "    }\n",
       "\n",
       "    .dataframe thead th {\n",
       "        text-align: right;\n",
       "    }\n",
       "</style>\n",
       "<table border=\"1\" class=\"dataframe\">\n",
       "  <thead>\n",
       "    <tr style=\"text-align: right;\">\n",
       "      <th></th>\n",
       "      <th>name</th>\n",
       "      <th>age</th>\n",
       "    </tr>\n",
       "  </thead>\n",
       "  <tbody>\n",
       "    <tr>\n",
       "      <td>1</td>\n",
       "      <td>James</td>\n",
       "      <td>22</td>\n",
       "    </tr>\n",
       "    <tr>\n",
       "      <td>2</td>\n",
       "      <td>Jess</td>\n",
       "      <td>22</td>\n",
       "    </tr>\n",
       "  </tbody>\n",
       "</table>\n",
       "</div>"
      ],
      "text/plain": [
       "    name age\n",
       "1  James  22\n",
       "2   Jess  22"
      ]
     },
     "execution_count": 30,
     "metadata": {},
     "output_type": "execute_result"
    }
   ],
   "source": [
    "table = pd.DataFrame(columns = (\"name\",\"age\"))\n",
    "table.loc[1] = \"James\",22\n",
    "table.loc[2] = \"Jess\",22\n",
    "table"
   ]
  },
  {
   "cell_type": "code",
   "execution_count": 31,
   "metadata": {},
   "outputs": [
    {
     "name": "stdout",
     "output_type": "stream",
     "text": [
      "C:\\Users\\Ani\\OneDrive\\Desktop\\books\\English\\shakespeare\\A Midsummer Night's Dream.txt\n",
      "C:\\Users\\Ani\\OneDrive\\Desktop\\books\\English\\shakespeare\\Hamlet.txt\n",
      "C:\\Users\\Ani\\OneDrive\\Desktop\\books\\English\\shakespeare\\Macbeth.txt\n",
      "C:\\Users\\Ani\\OneDrive\\Desktop\\books\\English\\shakespeare\\Othello.txt\n",
      "C:\\Users\\Ani\\OneDrive\\Desktop\\books\\English\\shakespeare\\Richard III.txt\n",
      "C:\\Users\\Ani\\OneDrive\\Desktop\\books\\English\\shakespeare\\Romeo and Juliet.txt\n",
      "C:\\Users\\Ani\\OneDrive\\Desktop\\books\\English\\shakespeare\\The Merchant of Venice.txt\n",
      "C:\\Users\\Ani\\OneDrive\\Desktop\\books\\French\\chevalier\\L'enfer et le paradis de l'autre monde.txt\n",
      "C:\\Users\\Ani\\OneDrive\\Desktop\\books\\French\\chevalier\\L'åle de sable.txt\n",
      "C:\\Users\\Ani\\OneDrive\\Desktop\\books\\French\\chevalier\\La capitaine.txt\n",
      "C:\\Users\\Ani\\OneDrive\\Desktop\\books\\French\\chevalier\\La fille des indiens rouges.txt\n",
      "C:\\Users\\Ani\\OneDrive\\Desktop\\books\\French\\chevalier\\La fille du pirate.txt\n",
      "C:\\Users\\Ani\\OneDrive\\Desktop\\books\\French\\chevalier\\Le chasseur noir.txt\n",
      "C:\\Users\\Ani\\OneDrive\\Desktop\\books\\French\\chevalier\\Les derniers Iroquois.txt\n",
      "C:\\Users\\Ani\\OneDrive\\Desktop\\books\\French\\de Maupassant\\Boule de Suif.txt\n",
      "C:\\Users\\Ani\\OneDrive\\Desktop\\books\\French\\de Maupassant\\Claire de Lune.txt\n",
      "C:\\Users\\Ani\\OneDrive\\Desktop\\books\\French\\de Maupassant\\Contes de la Becasse.txt\n",
      "C:\\Users\\Ani\\OneDrive\\Desktop\\books\\French\\de Maupassant\\L'inutile beautÇ.txt\n",
      "C:\\Users\\Ani\\OneDrive\\Desktop\\books\\French\\de Maupassant\\La Main Gauche.txt\n",
      "C:\\Users\\Ani\\OneDrive\\Desktop\\books\\French\\de Maupassant\\La Maison Tellier.txt\n",
      "C:\\Users\\Ani\\OneDrive\\Desktop\\books\\French\\de Maupassant\\La petite roque.txt\n",
      "C:\\Users\\Ani\\OneDrive\\Desktop\\books\\French\\de Maupassant\\Le Horla.txt\n",
      "C:\\Users\\Ani\\OneDrive\\Desktop\\books\\French\\de Maupassant\\Œuvres complètes de Guy de Maupassant.txt\n",
      "C:\\Users\\Ani\\OneDrive\\Desktop\\books\\French\\diderot\\Ceci n'est pas un conte.txt\n",
      "C:\\Users\\Ani\\OneDrive\\Desktop\\books\\French\\diderot\\Entretien d'un päre avec ses enfants.txt\n",
      "C:\\Users\\Ani\\OneDrive\\Desktop\\books\\French\\diderot\\L'oiseau blanc.txt\n",
      "C:\\Users\\Ani\\OneDrive\\Desktop\\books\\French\\diderot\\Les deux amis de Bourbonne.txt\n",
      "C:\\Users\\Ani\\OneDrive\\Desktop\\books\\French\\diderot\\Regrets sur ma vieille robe de chambre.txt\n",
      "C:\\Users\\Ani\\OneDrive\\Desktop\\books\\French\\sand\\cora.txt\n",
      "C:\\Users\\Ani\\OneDrive\\Desktop\\books\\French\\sand\\Jacques le fataliste et son maåtre.txt\n",
      "C:\\Users\\Ani\\OneDrive\\Desktop\\books\\French\\sand\\L' Orco.txt\n",
      "C:\\Users\\Ani\\OneDrive\\Desktop\\books\\French\\sand\\La Coupe; Lupo Liverani; Le Toast; Garnier; Le Contrebandier; La Ràverie Ö Paris.txt\n",
      "C:\\Users\\Ani\\OneDrive\\Desktop\\books\\French\\sand\\La Marquise.txt\n",
      "C:\\Users\\Ani\\OneDrive\\Desktop\\books\\French\\sand\\Le Piccinino.txt\n",
      "C:\\Users\\Ani\\OneDrive\\Desktop\\books\\French\\sand\\Le poâme de Myrza.txt\n",
      "C:\\Users\\Ani\\OneDrive\\Desktop\\books\\French\\sand\\Mattea.txt\n",
      "C:\\Users\\Ani\\OneDrive\\Desktop\\books\\French\\sand\\Metella.txt\n",
      "C:\\Users\\Ani\\OneDrive\\Desktop\\books\\French\\sand\\Oeuvres illustrÇes de George Sand.txt\n",
      "C:\\Users\\Ani\\OneDrive\\Desktop\\books\\French\\sand\\Pauline.txt\n",
      "C:\\Users\\Ani\\OneDrive\\Desktop\\books\\German\\lessing\\der freigeist.txt\n",
      "C:\\Users\\Ani\\OneDrive\\Desktop\\books\\German\\lessing\\der junge gelehrte.txt\n",
      "C:\\Users\\Ani\\OneDrive\\Desktop\\books\\German\\lessing\\die juden.txt\n",
      "C:\\Users\\Ani\\OneDrive\\Desktop\\books\\German\\lessing\\emilia galotti.txt\n",
      "C:\\Users\\Ani\\OneDrive\\Desktop\\books\\German\\lessing\\hamburgische dramaturgie.txt\n",
      "C:\\Users\\Ani\\OneDrive\\Desktop\\books\\German\\lessing\\minna von barnhelm.txt\n",
      "C:\\Users\\Ani\\OneDrive\\Desktop\\books\\German\\lessing\\miss sara sampson.txt\n",
      "C:\\Users\\Ani\\OneDrive\\Desktop\\books\\German\\lessing\\philotas.txt\n",
      "C:\\Users\\Ani\\OneDrive\\Desktop\\books\\German\\raimund\\Das MÑdchen aus der Feenwelt.txt\n",
      "C:\\Users\\Ani\\OneDrive\\Desktop\\books\\German\\raimund\\Der Alpenkînig und der Menschenfeind.txt\n",
      "C:\\Users\\Ani\\OneDrive\\Desktop\\books\\German\\raimund\\Der Barometermacher auf der Zauberinsel.txt\n",
      "C:\\Users\\Ani\\OneDrive\\Desktop\\books\\German\\raimund\\Der Diamant des Geisterkînigs.txt\n",
      "C:\\Users\\Ani\\OneDrive\\Desktop\\books\\German\\raimund\\Der Verschwender.txt\n",
      "C:\\Users\\Ani\\OneDrive\\Desktop\\books\\German\\raimund\\Die gefesselte Phantasie.txt\n",
      "C:\\Users\\Ani\\OneDrive\\Desktop\\books\\German\\raimund\\Die unheilbringende Krone.txt\n",
      "C:\\Users\\Ani\\OneDrive\\Desktop\\books\\German\\raimund\\Moisasurs Zauberfluch.txt\n",
      "C:\\Users\\Ani\\OneDrive\\Desktop\\books\\German\\schiller\\Der Neffe als Onkel.txt\n",
      "C:\\Users\\Ani\\OneDrive\\Desktop\\books\\German\\schiller\\Der Parasit, oder die Kunst, sein GlÅck zu machen.txt\n",
      "C:\\Users\\Ani\\OneDrive\\Desktop\\books\\German\\schiller\\die braut von messina.txt\n",
      "C:\\Users\\Ani\\OneDrive\\Desktop\\books\\German\\schiller\\Die Huldigung der KÅnste.txt\n",
      "C:\\Users\\Ani\\OneDrive\\Desktop\\books\\German\\schiller\\Die Jungfrau von Orleans.txt\n",
      "C:\\Users\\Ani\\OneDrive\\Desktop\\books\\German\\schiller\\Die Piccolomini.txt\n",
      "C:\\Users\\Ani\\OneDrive\\Desktop\\books\\German\\schiller\\Die Verschwîrung des Fiesco zu Genua.txt\n",
      "C:\\Users\\Ani\\OneDrive\\Desktop\\books\\German\\schiller\\Kabale und Liebe.txt\n",
      "C:\\Users\\Ani\\OneDrive\\Desktop\\books\\German\\schiller\\Turandot, Prinzessin von China.txt\n",
      "C:\\Users\\Ani\\OneDrive\\Desktop\\books\\German\\schiller\\Wallensteins Lager.txt\n",
      "C:\\Users\\Ani\\OneDrive\\Desktop\\books\\German\\schiller\\Wallensteins Tod.txt\n",
      "C:\\Users\\Ani\\OneDrive\\Desktop\\books\\German\\shakespeare\\Der Kaufmann von Venedig.txt\n",
      "C:\\Users\\Ani\\OneDrive\\Desktop\\books\\German\\shakespeare\\Ein Sommernachtstraum.txt\n",
      "C:\\Users\\Ani\\OneDrive\\Desktop\\books\\German\\shakespeare\\Hamlet.txt\n",
      "C:\\Users\\Ani\\OneDrive\\Desktop\\books\\German\\shakespeare\\Macbeth.txt\n",
      "C:\\Users\\Ani\\OneDrive\\Desktop\\books\\German\\shakespeare\\Othello.txt\n",
      "C:\\Users\\Ani\\OneDrive\\Desktop\\books\\German\\shakespeare\\Richard III.txt\n",
      "C:\\Users\\Ani\\OneDrive\\Desktop\\books\\German\\shakespeare\\Romeo und Julia.txt\n",
      "C:\\Users\\Ani\\OneDrive\\Desktop\\books\\Portuguese\\branco\\A Filha do Arcediago.txt\n",
      "C:\\Users\\Ani\\OneDrive\\Desktop\\books\\Portuguese\\branco\\A Neta do Arcediago.txt\n",
      "C:\\Users\\Ani\\OneDrive\\Desktop\\books\\Portuguese\\branco\\A Queda d'um Anjo.txt\n",
      "C:\\Users\\Ani\\OneDrive\\Desktop\\books\\Portuguese\\branco\\Agulha em Palheiro.txt\n",
      "C:\\Users\\Ani\\OneDrive\\Desktop\\books\\Portuguese\\branco\\Amor de Perdição.txt\n",
      "C:\\Users\\Ani\\OneDrive\\Desktop\\books\\Portuguese\\branco\\Amor de Salvação.txt\n",
      "C:\\Users\\Ani\\OneDrive\\Desktop\\books\\Portuguese\\branco\\Annos de Prosa.txt\n",
      "C:\\Users\\Ani\\OneDrive\\Desktop\\books\\Portuguese\\branco\\Carlota Angela.txt\n",
      "C:\\Users\\Ani\\OneDrive\\Desktop\\books\\Portuguese\\branco\\Estrellas Funestas.txt\n",
      "C:\\Users\\Ani\\OneDrive\\Desktop\\books\\Portuguese\\branco\\Estrellas Prop°cias.txt\n",
      "C:\\Users\\Ani\\OneDrive\\Desktop\\books\\Portuguese\\branco\\Lagrimas Abenáoadas.txt\n",
      "C:\\Users\\Ani\\OneDrive\\Desktop\\books\\Portuguese\\branco\\Livro de Consolação.txt\n",
      "C:\\Users\\Ani\\OneDrive\\Desktop\\books\\Portuguese\\branco\\O Olho de Vidro.txt\n",
      "C:\\Users\\Ani\\OneDrive\\Desktop\\books\\Portuguese\\branco\\O que fazem mulheres.txt\n",
      "C:\\Users\\Ani\\OneDrive\\Desktop\\books\\Portuguese\\branco\\O Regicida.txt\n",
      "C:\\Users\\Ani\\OneDrive\\Desktop\\books\\Portuguese\\branco\\Scenas Contemporaneas.txt\n",
      "C:\\Users\\Ani\\OneDrive\\Desktop\\books\\Portuguese\\dinis\\A Morgadinha dos Cannaviaes.txt\n",
      "C:\\Users\\Ani\\OneDrive\\Desktop\\books\\Portuguese\\dinis\\Os fidalgos da Casa Mourisca.txt\n",
      "C:\\Users\\Ani\\OneDrive\\Desktop\\books\\Portuguese\\dinis\\Uma fam°lia ingleza.txt\n",
      "C:\\Users\\Ani\\OneDrive\\Desktop\\books\\Portuguese\\Queir¢s\\A Cidade e as Serras.txt\n",
      "C:\\Users\\Ani\\OneDrive\\Desktop\\books\\Portuguese\\Queir¢s\\A correspondància de Fradique Mendes.txt\n",
      "C:\\Users\\Ani\\OneDrive\\Desktop\\books\\Portuguese\\Queir¢s\\A Illustre Casa de Ramires.txt\n",
      "C:\\Users\\Ani\\OneDrive\\Desktop\\books\\Portuguese\\Queir¢s\\A Rel°quia.txt\n",
      "C:\\Users\\Ani\\OneDrive\\Desktop\\books\\Portuguese\\Queir¢s\\Cartas de Inglaterra.txt\n",
      "C:\\Users\\Ani\\OneDrive\\Desktop\\books\\Portuguese\\Queir¢s\\O crime do padre Amaro.txt\n",
      "C:\\Users\\Ani\\OneDrive\\Desktop\\books\\Portuguese\\Queir¢s\\O Mandarim.txt\n",
      "C:\\Users\\Ani\\OneDrive\\Desktop\\books\\Portuguese\\Queir¢s\\O Primo Bazilio.txt\n",
      "C:\\Users\\Ani\\OneDrive\\Desktop\\books\\Portuguese\\Queir¢s\\Os Maias.txt\n",
      "C:\\Users\\Ani\\OneDrive\\Desktop\\books\\Portuguese\\shakespeare\\Hamlet.txt\n"
     ]
    }
   ],
   "source": [
    "stats = pd.DataFrame(columns=(\"language\",\"author\",\"title\",\"length\",\"unique\"))\n",
    "title_num = 1\n",
    "for language in os.listdir(book_dir):\n",
    "    for author in os.listdir(book_dir+\"\\\\\"+language):\n",
    "        for title in os.listdir(book_dir+\"\\\\\"+language+\"\\\\\"+author):\n",
    "            inputfile = book_dir+\"\\\\\"+language+\"\\\\\"+author+\"\\\\\"+title\n",
    "            print(inputfile)\n",
    "            text = read_book(inputfile)\n",
    "            (num_unique, counts) = word_stats(count_words(text))\n",
    "            title_num +=1\n",
    "            stats.loc[title_num]= language,author.capitalize(),title.replace(\".txt\",\"\"),sum(counts),num_unique"
   ]
  },
  {
   "cell_type": "code",
   "execution_count": 32,
   "metadata": {},
   "outputs": [
    {
     "data": {
      "text/html": [
       "<div>\n",
       "<style scoped>\n",
       "    .dataframe tbody tr th:only-of-type {\n",
       "        vertical-align: middle;\n",
       "    }\n",
       "\n",
       "    .dataframe tbody tr th {\n",
       "        vertical-align: top;\n",
       "    }\n",
       "\n",
       "    .dataframe thead th {\n",
       "        text-align: right;\n",
       "    }\n",
       "</style>\n",
       "<table border=\"1\" class=\"dataframe\">\n",
       "  <thead>\n",
       "    <tr style=\"text-align: right;\">\n",
       "      <th></th>\n",
       "      <th>language</th>\n",
       "      <th>author</th>\n",
       "      <th>title</th>\n",
       "      <th>length</th>\n",
       "      <th>unique</th>\n",
       "    </tr>\n",
       "  </thead>\n",
       "  <tbody>\n",
       "    <tr>\n",
       "      <td>2</td>\n",
       "      <td>English</td>\n",
       "      <td>Shakespeare</td>\n",
       "      <td>A Midsummer Night's Dream</td>\n",
       "      <td>16103</td>\n",
       "      <td>4345</td>\n",
       "    </tr>\n",
       "    <tr>\n",
       "      <td>3</td>\n",
       "      <td>English</td>\n",
       "      <td>Shakespeare</td>\n",
       "      <td>Hamlet</td>\n",
       "      <td>28551</td>\n",
       "      <td>6776</td>\n",
       "    </tr>\n",
       "    <tr>\n",
       "      <td>4</td>\n",
       "      <td>English</td>\n",
       "      <td>Shakespeare</td>\n",
       "      <td>Macbeth</td>\n",
       "      <td>16874</td>\n",
       "      <td>4780</td>\n",
       "    </tr>\n",
       "    <tr>\n",
       "      <td>5</td>\n",
       "      <td>English</td>\n",
       "      <td>Shakespeare</td>\n",
       "      <td>Othello</td>\n",
       "      <td>26590</td>\n",
       "      <td>5898</td>\n",
       "    </tr>\n",
       "    <tr>\n",
       "      <td>6</td>\n",
       "      <td>English</td>\n",
       "      <td>Shakespeare</td>\n",
       "      <td>Richard III</td>\n",
       "      <td>48315</td>\n",
       "      <td>5449</td>\n",
       "    </tr>\n",
       "    <tr>\n",
       "      <td>...</td>\n",
       "      <td>...</td>\n",
       "      <td>...</td>\n",
       "      <td>...</td>\n",
       "      <td>...</td>\n",
       "      <td>...</td>\n",
       "    </tr>\n",
       "    <tr>\n",
       "      <td>99</td>\n",
       "      <td>Portuguese</td>\n",
       "      <td>Queir¢s</td>\n",
       "      <td>O crime do padre Amaro</td>\n",
       "      <td>128630</td>\n",
       "      <td>29300</td>\n",
       "    </tr>\n",
       "    <tr>\n",
       "      <td>100</td>\n",
       "      <td>Portuguese</td>\n",
       "      <td>Queir¢s</td>\n",
       "      <td>O Mandarim</td>\n",
       "      <td>21440</td>\n",
       "      <td>7836</td>\n",
       "    </tr>\n",
       "    <tr>\n",
       "      <td>101</td>\n",
       "      <td>Portuguese</td>\n",
       "      <td>Queir¢s</td>\n",
       "      <td>O Primo Bazilio</td>\n",
       "      <td>107303</td>\n",
       "      <td>27644</td>\n",
       "    </tr>\n",
       "    <tr>\n",
       "      <td>102</td>\n",
       "      <td>Portuguese</td>\n",
       "      <td>Queir¢s</td>\n",
       "      <td>Os Maias</td>\n",
       "      <td>195771</td>\n",
       "      <td>40665</td>\n",
       "    </tr>\n",
       "    <tr>\n",
       "      <td>103</td>\n",
       "      <td>Portuguese</td>\n",
       "      <td>Shakespeare</td>\n",
       "      <td>Hamlet</td>\n",
       "      <td>30567</td>\n",
       "      <td>9700</td>\n",
       "    </tr>\n",
       "  </tbody>\n",
       "</table>\n",
       "<p>102 rows × 5 columns</p>\n",
       "</div>"
      ],
      "text/plain": [
       "       language       author                      title  length unique\n",
       "2       English  Shakespeare  A Midsummer Night's Dream   16103   4345\n",
       "3       English  Shakespeare                     Hamlet   28551   6776\n",
       "4       English  Shakespeare                    Macbeth   16874   4780\n",
       "5       English  Shakespeare                    Othello   26590   5898\n",
       "6       English  Shakespeare                Richard III   48315   5449\n",
       "..          ...          ...                        ...     ...    ...\n",
       "99   Portuguese      Queir¢s     O crime do padre Amaro  128630  29300\n",
       "100  Portuguese      Queir¢s                 O Mandarim   21440   7836\n",
       "101  Portuguese      Queir¢s            O Primo Bazilio  107303  27644\n",
       "102  Portuguese      Queir¢s                   Os Maias  195771  40665\n",
       "103  Portuguese  Shakespeare                     Hamlet   30567   9700\n",
       "\n",
       "[102 rows x 5 columns]"
      ]
     },
     "execution_count": 32,
     "metadata": {},
     "output_type": "execute_result"
    }
   ],
   "source": [
    "stats"
   ]
  },
  {
   "cell_type": "code",
   "execution_count": 33,
   "metadata": {},
   "outputs": [
    {
     "data": {
      "text/html": [
       "<div>\n",
       "<style scoped>\n",
       "    .dataframe tbody tr th:only-of-type {\n",
       "        vertical-align: middle;\n",
       "    }\n",
       "\n",
       "    .dataframe tbody tr th {\n",
       "        vertical-align: top;\n",
       "    }\n",
       "\n",
       "    .dataframe thead th {\n",
       "        text-align: right;\n",
       "    }\n",
       "</style>\n",
       "<table border=\"1\" class=\"dataframe\">\n",
       "  <thead>\n",
       "    <tr style=\"text-align: right;\">\n",
       "      <th></th>\n",
       "      <th>language</th>\n",
       "      <th>author</th>\n",
       "      <th>title</th>\n",
       "      <th>length</th>\n",
       "      <th>unique</th>\n",
       "    </tr>\n",
       "  </thead>\n",
       "  <tbody>\n",
       "    <tr>\n",
       "      <td>2</td>\n",
       "      <td>English</td>\n",
       "      <td>Shakespeare</td>\n",
       "      <td>A Midsummer Night's Dream</td>\n",
       "      <td>16103</td>\n",
       "      <td>4345</td>\n",
       "    </tr>\n",
       "    <tr>\n",
       "      <td>3</td>\n",
       "      <td>English</td>\n",
       "      <td>Shakespeare</td>\n",
       "      <td>Hamlet</td>\n",
       "      <td>28551</td>\n",
       "      <td>6776</td>\n",
       "    </tr>\n",
       "    <tr>\n",
       "      <td>4</td>\n",
       "      <td>English</td>\n",
       "      <td>Shakespeare</td>\n",
       "      <td>Macbeth</td>\n",
       "      <td>16874</td>\n",
       "      <td>4780</td>\n",
       "    </tr>\n",
       "    <tr>\n",
       "      <td>5</td>\n",
       "      <td>English</td>\n",
       "      <td>Shakespeare</td>\n",
       "      <td>Othello</td>\n",
       "      <td>26590</td>\n",
       "      <td>5898</td>\n",
       "    </tr>\n",
       "    <tr>\n",
       "      <td>6</td>\n",
       "      <td>English</td>\n",
       "      <td>Shakespeare</td>\n",
       "      <td>Richard III</td>\n",
       "      <td>48315</td>\n",
       "      <td>5449</td>\n",
       "    </tr>\n",
       "  </tbody>\n",
       "</table>\n",
       "</div>"
      ],
      "text/plain": [
       "  language       author                      title length unique\n",
       "2  English  Shakespeare  A Midsummer Night's Dream  16103   4345\n",
       "3  English  Shakespeare                     Hamlet  28551   6776\n",
       "4  English  Shakespeare                    Macbeth  16874   4780\n",
       "5  English  Shakespeare                    Othello  26590   5898\n",
       "6  English  Shakespeare                Richard III  48315   5449"
      ]
     },
     "execution_count": 33,
     "metadata": {},
     "output_type": "execute_result"
    }
   ],
   "source": [
    "stats.head()"
   ]
  },
  {
   "cell_type": "code",
   "execution_count": 34,
   "metadata": {},
   "outputs": [
    {
     "data": {
      "text/html": [
       "<div>\n",
       "<style scoped>\n",
       "    .dataframe tbody tr th:only-of-type {\n",
       "        vertical-align: middle;\n",
       "    }\n",
       "\n",
       "    .dataframe tbody tr th {\n",
       "        vertical-align: top;\n",
       "    }\n",
       "\n",
       "    .dataframe thead th {\n",
       "        text-align: right;\n",
       "    }\n",
       "</style>\n",
       "<table border=\"1\" class=\"dataframe\">\n",
       "  <thead>\n",
       "    <tr style=\"text-align: right;\">\n",
       "      <th></th>\n",
       "      <th>language</th>\n",
       "      <th>author</th>\n",
       "      <th>title</th>\n",
       "      <th>length</th>\n",
       "      <th>unique</th>\n",
       "    </tr>\n",
       "  </thead>\n",
       "  <tbody>\n",
       "    <tr>\n",
       "      <td>99</td>\n",
       "      <td>Portuguese</td>\n",
       "      <td>Queir¢s</td>\n",
       "      <td>O crime do padre Amaro</td>\n",
       "      <td>128630</td>\n",
       "      <td>29300</td>\n",
       "    </tr>\n",
       "    <tr>\n",
       "      <td>100</td>\n",
       "      <td>Portuguese</td>\n",
       "      <td>Queir¢s</td>\n",
       "      <td>O Mandarim</td>\n",
       "      <td>21440</td>\n",
       "      <td>7836</td>\n",
       "    </tr>\n",
       "    <tr>\n",
       "      <td>101</td>\n",
       "      <td>Portuguese</td>\n",
       "      <td>Queir¢s</td>\n",
       "      <td>O Primo Bazilio</td>\n",
       "      <td>107303</td>\n",
       "      <td>27644</td>\n",
       "    </tr>\n",
       "    <tr>\n",
       "      <td>102</td>\n",
       "      <td>Portuguese</td>\n",
       "      <td>Queir¢s</td>\n",
       "      <td>Os Maias</td>\n",
       "      <td>195771</td>\n",
       "      <td>40665</td>\n",
       "    </tr>\n",
       "    <tr>\n",
       "      <td>103</td>\n",
       "      <td>Portuguese</td>\n",
       "      <td>Shakespeare</td>\n",
       "      <td>Hamlet</td>\n",
       "      <td>30567</td>\n",
       "      <td>9700</td>\n",
       "    </tr>\n",
       "  </tbody>\n",
       "</table>\n",
       "</div>"
      ],
      "text/plain": [
       "       language       author                   title  length unique\n",
       "99   Portuguese      Queir¢s  O crime do padre Amaro  128630  29300\n",
       "100  Portuguese      Queir¢s              O Mandarim   21440   7836\n",
       "101  Portuguese      Queir¢s         O Primo Bazilio  107303  27644\n",
       "102  Portuguese      Queir¢s                Os Maias  195771  40665\n",
       "103  Portuguese  Shakespeare                  Hamlet   30567   9700"
      ]
     },
     "execution_count": 34,
     "metadata": {},
     "output_type": "execute_result"
    }
   ],
   "source": [
    "stats.tail()"
   ]
  },
  {
   "cell_type": "code",
   "execution_count": 35,
   "metadata": {},
   "outputs": [
    {
     "data": {
      "text/plain": [
       "2       16103\n",
       "3       28551\n",
       "4       16874\n",
       "5       26590\n",
       "6       48315\n",
       "        ...  \n",
       "99     128630\n",
       "100     21440\n",
       "101    107303\n",
       "102    195771\n",
       "103     30567\n",
       "Name: length, Length: 102, dtype: object"
      ]
     },
     "execution_count": 35,
     "metadata": {},
     "output_type": "execute_result"
    }
   ],
   "source": [
    "stats.length"
   ]
  },
  {
   "cell_type": "code",
   "execution_count": 36,
   "metadata": {},
   "outputs": [],
   "source": [
    "import matplotlib.pyplot as plt"
   ]
  },
  {
   "cell_type": "code",
   "execution_count": 37,
   "metadata": {},
   "outputs": [
    {
     "data": {
      "image/png": "[encoded data removed]",
      "text/plain": [
       "<Figure size 432x288 with 1 Axes>"
      ]
     },
     "metadata": {
      "needs_background": "light"
     },
     "output_type": "display_data"
    }
   ],
   "source": [
    "plt.plot(stats.length,stats.unique,\"bo\");"
   ]
  },
  {
   "cell_type": "code",
   "execution_count": 38,
   "metadata": {},
   "outputs": [
    {
     "data": {
      "image/png": "[encoded data removed]",
      "text/plain": [
       "<Figure size 432x288 with 1 Axes>"
      ]
     },
     "metadata": {
      "needs_background": "light"
     },
     "output_type": "display_data"
    }
   ],
   "source": [
    "plt.loglog(stats.length,stats.unique,\"ro\");"
   ]
  },
  {
   "cell_type": "code",
   "execution_count": 39,
   "metadata": {},
   "outputs": [
    {
     "data": {
      "text/html": [
       "<div>\n",
       "<style scoped>\n",
       "    .dataframe tbody tr th:only-of-type {\n",
       "        vertical-align: middle;\n",
       "    }\n",
       "\n",
       "    .dataframe tbody tr th {\n",
       "        vertical-align: top;\n",
       "    }\n",
       "\n",
       "    .dataframe thead th {\n",
       "        text-align: right;\n",
       "    }\n",
       "</style>\n",
       "<table border=\"1\" class=\"dataframe\">\n",
       "  <thead>\n",
       "    <tr style=\"text-align: right;\">\n",
       "      <th></th>\n",
       "      <th>language</th>\n",
       "      <th>author</th>\n",
       "      <th>title</th>\n",
       "      <th>length</th>\n",
       "      <th>unique</th>\n",
       "    </tr>\n",
       "  </thead>\n",
       "  <tbody>\n",
       "    <tr>\n",
       "      <td>2</td>\n",
       "      <td>English</td>\n",
       "      <td>Shakespeare</td>\n",
       "      <td>A Midsummer Night's Dream</td>\n",
       "      <td>16103</td>\n",
       "      <td>4345</td>\n",
       "    </tr>\n",
       "    <tr>\n",
       "      <td>3</td>\n",
       "      <td>English</td>\n",
       "      <td>Shakespeare</td>\n",
       "      <td>Hamlet</td>\n",
       "      <td>28551</td>\n",
       "      <td>6776</td>\n",
       "    </tr>\n",
       "    <tr>\n",
       "      <td>4</td>\n",
       "      <td>English</td>\n",
       "      <td>Shakespeare</td>\n",
       "      <td>Macbeth</td>\n",
       "      <td>16874</td>\n",
       "      <td>4780</td>\n",
       "    </tr>\n",
       "    <tr>\n",
       "      <td>5</td>\n",
       "      <td>English</td>\n",
       "      <td>Shakespeare</td>\n",
       "      <td>Othello</td>\n",
       "      <td>26590</td>\n",
       "      <td>5898</td>\n",
       "    </tr>\n",
       "    <tr>\n",
       "      <td>6</td>\n",
       "      <td>English</td>\n",
       "      <td>Shakespeare</td>\n",
       "      <td>Richard III</td>\n",
       "      <td>48315</td>\n",
       "      <td>5449</td>\n",
       "    </tr>\n",
       "    <tr>\n",
       "      <td>7</td>\n",
       "      <td>English</td>\n",
       "      <td>Shakespeare</td>\n",
       "      <td>Romeo and Juliet</td>\n",
       "      <td>40776</td>\n",
       "      <td>5118</td>\n",
       "    </tr>\n",
       "    <tr>\n",
       "      <td>8</td>\n",
       "      <td>English</td>\n",
       "      <td>Shakespeare</td>\n",
       "      <td>The Merchant of Venice</td>\n",
       "      <td>20949</td>\n",
       "      <td>4978</td>\n",
       "    </tr>\n",
       "  </tbody>\n",
       "</table>\n",
       "</div>"
      ],
      "text/plain": [
       "  language       author                      title length unique\n",
       "2  English  Shakespeare  A Midsummer Night's Dream  16103   4345\n",
       "3  English  Shakespeare                     Hamlet  28551   6776\n",
       "4  English  Shakespeare                    Macbeth  16874   4780\n",
       "5  English  Shakespeare                    Othello  26590   5898\n",
       "6  English  Shakespeare                Richard III  48315   5449\n",
       "7  English  Shakespeare           Romeo and Juliet  40776   5118\n",
       "8  English  Shakespeare     The Merchant of Venice  20949   4978"
      ]
     },
     "execution_count": 39,
     "metadata": {},
     "output_type": "execute_result"
    }
   ],
   "source": [
    "stats[stats.language == \"English\"]"
   ]
  },
  {
   "cell_type": "code",
   "execution_count": 48,
   "metadata": {},
   "outputs": [
    {
     "data": {
      "image/png": "[encoded data removed]",
      "text/plain": [
       "<Figure size 720x720 with 1 Axes>"
      ]
     },
     "metadata": {
      "needs_background": "light"
     },
     "output_type": "display_data"
    }
   ],
   "source": [
    "plt.figure(figsize = (10, 10))\n",
    "subset = stats[stats.language == \"English\"]\n",
    "plt.loglog(subset.length,  subset.unique, \"o\", label = \"English\", color = \"crimson\");\n",
    "\n",
    "subset = stats[stats.language == \"French\"]\n",
    "plt.loglog(subset.length,  subset.unique, \"o\", label = \"French\", color = \"forestgreen\");\n",
    "\n",
    "subset = stats[stats.language == \"German\"]\n",
    "plt.loglog(subset.length,  subset.unique, \"o\", label = \"German\", color = \"orange\");\n",
    "\n",
    "subset = stats[stats.language == \"Portuguese\"]\n",
    "plt.loglog(subset.length,  subset.unique, \"o\", label = \"Portuguese\", color = \"blueviolet\");\n",
    "\n",
    "plt.legend()\n",
    "plt.xlabel(\"Book lenght\")\n",
    "plt.ylabel(\"Number of unique words\")\n",
    "plt.savefig(\"lang_plot.pdf\")"
   ]
  },
  {
   "cell_type": "code",
   "execution_count": null,
   "metadata": {},
   "outputs": [],
   "source": []
  }
 ],
 "metadata": {
  "kernelspec": {
   "display_name": "Python 3",
   "language": "python",
   "name": "python3"
  },
  "language_info": {
   "codemirror_mode": {
    "name": "ipython",
    "version": 3
   },
   "file_extension": ".py",
   "mimetype": "text/x-python",
   "name": "python",
   "nbconvert_exporter": "python",
   "pygments_lexer": "ipython3",
   "version": "3.7.4"
  }
 },
 "nbformat": 4,
 "nbformat_minor": 2
}
